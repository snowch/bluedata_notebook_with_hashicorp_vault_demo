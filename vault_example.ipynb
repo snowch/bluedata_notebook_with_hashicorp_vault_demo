{
 "cells": [
  {
   "cell_type": "markdown",
   "metadata": {},
   "source": [
    "### First enter your login username and password. \n",
    "\n",
    "We prompt for the password so that you do not have to enter your credentials directly in the notebook as plain text.\n",
    "\n",
    "These credentials will be used to access Azure Data Lake credentials that are secured by Hashicorp Vault.  "
   ]
  },
  {
   "cell_type": "code",
   "execution_count": null,
   "metadata": {},
   "outputs": [],
   "source": [
    "import getpass\n",
    "(username, password) = getpass.getpass(prompt='Login Username/Password: ', stream=None).split('/')"
   ]
  },
  {
   "cell_type": "markdown",
   "metadata": {},
   "source": [
    "### Install the python library for Hashicorp Vault services.  \n",
    "\n",
    "Use the login username and password to retrieve the Azure data lake credentials that were created directly using the vault CLI tools (the Vault Web UI could have been used instead)."
   ]
  },
  {
   "cell_type": "code",
   "execution_count": null,
   "metadata": {},
   "outputs": [],
   "source": [
    "! pip install --user hvac --quiet"
   ]
  },
  {
   "cell_type": "code",
   "execution_count": null,
   "metadata": {},
   "outputs": [],
   "source": [
    "from hvac import Client\n",
    "\n",
    "client = Client(url='http://52.56.96.219:8200', verify=False)\n",
    "client.auth_userpass(username, password, mount_point='userpass', use_token=True)\n",
    "print('Authenticated: ' + str(client.is_authenticated()))"
   ]
  },
  {
   "cell_type": "code",
   "execution_count": null,
   "metadata": {},
   "outputs": [],
   "source": [
    "secret_version_response = client.secrets.kv.v2.read_secret_version(path='azure_datalake')\n",
    "account_name = secret_version_response['data']['data']['accountName']\n",
    "account_key = secret_version_response['data']['data']['accountKey']"
   ]
  },
  {
   "cell_type": "markdown",
   "metadata": {},
   "source": [
    "### Install the python library for azure data lake and retrieve a dataset for analysis"
   ]
  },
  {
   "cell_type": "code",
   "execution_count": null,
   "metadata": {},
   "outputs": [],
   "source": [
    "! pip install --user azure-storage-blob --quiet"
   ]
  },
  {
   "cell_type": "code",
   "execution_count": null,
   "metadata": {},
   "outputs": [],
   "source": [
    "from azure.storage.blob import BlockBlobService\n",
    "\n",
    "block_blob_service = BlockBlobService(account_name=account_name, account_key=account_key)"
   ]
  },
  {
   "cell_type": "code",
   "execution_count": null,
   "metadata": {},
   "outputs": [],
   "source": [
    "_ = block_blob_service.get_blob_to_path('mycontainer', 'boston_house_prices.csv', 'boston_house_prices.csv')"
   ]
  },
  {
   "cell_type": "markdown",
   "metadata": {},
   "source": [
    "### Load the data and build a model using Scikit-learn"
   ]
  },
  {
   "cell_type": "code",
   "execution_count": null,
   "metadata": {},
   "outputs": [],
   "source": [
    "! pip install --user scikit-learn --quiet\n",
    "! pip install --user matplotlib --quiet\n",
    "! pip install --user numpy --quiet"
   ]
  },
  {
   "cell_type": "code",
   "execution_count": null,
   "metadata": {},
   "outputs": [],
   "source": [
    "import numpy as np\n",
    "\n",
    "f = open(\"boston_house_prices.csv\")\n",
    "f.readline()\n",
    "data = np.loadtxt(f, delimiter = ',')\n",
    "\n",
    "X = data[:, 0:-1] \n",
    "y = data[:, -1] "
   ]
  },
  {
   "cell_type": "code",
   "execution_count": null,
   "metadata": {},
   "outputs": [],
   "source": [
    "%matplotlib inline\n",
    "\n",
    "import matplotlib.pyplot as plt\n",
    "\n",
    "from sklearn import datasets\n",
    "from sklearn.ensemble import GradientBoostingRegressor\n",
    "from sklearn.ensemble import RandomForestRegressor\n",
    "from sklearn.linear_model import LinearRegression\n",
    "from sklearn.ensemble import VotingRegressor\n",
    "\n",
    "# Training classifiers\n",
    "reg1 = GradientBoostingRegressor(random_state=1, n_estimators=10)\n",
    "reg2 = RandomForestRegressor(random_state=1, n_estimators=10)\n",
    "reg3 = LinearRegression()\n",
    "ereg = VotingRegressor([('gb', reg1), ('rf', reg2), ('lr', reg3)])\n",
    "reg1.fit(X, y)\n",
    "reg2.fit(X, y)\n",
    "reg3.fit(X, y)\n",
    "ereg.fit(X, y)\n",
    "\n",
    "xt = X[:20]\n",
    "\n",
    "plt.figure()\n",
    "plt.plot(reg1.predict(xt), 'gd', label='GradientBoostingRegressor')\n",
    "plt.plot(reg2.predict(xt), 'b^', label='RandomForestRegressor')\n",
    "plt.plot(reg3.predict(xt), 'ys', label='LinearRegression')\n",
    "plt.plot(ereg.predict(xt), 'r*', label='VotingRegressor')\n",
    "plt.tick_params(axis='x', which='both', bottom=False, top=False,\n",
    "                labelbottom=False)\n",
    "plt.ylabel('predicted')\n",
    "plt.xlabel('training samples')\n",
    "plt.legend(loc=\"best\")\n",
    "plt.title('Comparison of individual predictions with averaged')\n",
    "plt.show()"
   ]
  },
  {
   "cell_type": "code",
   "execution_count": null,
   "metadata": {},
   "outputs": [],
   "source": []
  }
 ],
 "metadata": {
  "kernelspec": {
   "display_name": "Python 3",
   "language": "python",
   "name": "python3"
  },
  "language_info": {
   "codemirror_mode": {
    "name": "ipython",
    "version": 3
   },
   "file_extension": ".py",
   "mimetype": "text/x-python",
   "name": "python",
   "nbconvert_exporter": "python",
   "pygments_lexer": "ipython3",
   "version": "3.6.8"
  }
 },
 "nbformat": 4,
 "nbformat_minor": 2
}
